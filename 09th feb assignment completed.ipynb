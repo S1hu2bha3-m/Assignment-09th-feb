{
 "cells": [
  {
   "cell_type": "markdown",
   "id": "cd245711-f592-412b-9106-a7556d59bce4",
   "metadata": {},
   "source": [
    "Q1, Create a vehicle class with an init method having instance variables as name_of_vehicle, max_speed\n",
    "and average_of_vehicle."
   ]
  },
  {
   "cell_type": "code",
   "execution_count": 5,
   "id": "c3322883-97a4-4c4a-8a43-7642d3ad09b6",
   "metadata": {},
   "outputs": [
    {
     "name": "stdout",
     "output_type": "stream",
     "text": [
      "Brizza 250 34\n",
      "Brizza\n",
      "250\n",
      "34\n"
     ]
    }
   ],
   "source": [
    "class Vehicle:\n",
    "    def __init__(self,name_of_vehicle,max_speed,average_of_vehicle):\n",
    "        self.name_of_vehicle = name_of_vehicle\n",
    "        self.max_speed = max_speed\n",
    "        self.average_of_vehicle = average_of_vehicle\n",
    "        \n",
    "car = Vehicle(\"Brizza\",250,34)\n",
    "print(car.name_of_vehicle,car.max_speed,car.average_of_vehicle)\n",
    "print(car.name_of_vehicle)\n",
    "print(car.max_speed)\n",
    "print(car.average_of_vehicle)\n",
    "        "
   ]
  },
  {
   "cell_type": "markdown",
   "id": "c10f086b-ddc7-4fec-bafa-0cc1540c68f6",
   "metadata": {},
   "source": [
    "Q2. Create a child class car from the vehicle class created in Que 1, which will inherit the vehicle class.\n",
    "Create a method named seating_capacity which takes capacity as an argument and returns the name of\n",
    "the vehicle and its seating capacity."
   ]
  },
  {
   "cell_type": "code",
   "execution_count": 6,
   "id": "999918cf-15cd-4fd1-a9f1-19e48ac9fac7",
   "metadata": {},
   "outputs": [
    {
     "name": "stdout",
     "output_type": "stream",
     "text": [
      "Brizza has a seating capacity of 4 persons.\n"
     ]
    }
   ],
   "source": [
    "class Car(Vehicle):\n",
    "    def __init__(self, name_of_vehicle, max_speed, average_of_vehicle):\n",
    "        super().__init__(name_of_vehicle, max_speed, average_of_vehicle)\n",
    "\n",
    "    def seating_capacity(self, capacity):\n",
    "        return f\"{self.name_of_vehicle} has a seating capacity of {capacity} persons.\"\n",
    "my_car = Car(\"Brizza\", 270, 35)\n",
    "seating_capacity_str = my_car.seating_capacity(4)\n",
    "print(seating_capacity_str)  \n"
   ]
  },
  {
   "cell_type": "markdown",
   "id": "906144a6-17b9-42fe-8006-88353feeecef",
   "metadata": {},
   "source": [
    "Q3. What is multiple inheritance? Write a python code to demonstrate multiple inheritance."
   ]
  },
  {
   "cell_type": "markdown",
   "id": "a0ff80e8-0106-44ad-a1c9-f49da2275897",
   "metadata": {},
   "source": [
    "Ans. Multiple inheritance is a feature of object-oriented programming where a subclass can inherit from multiple parent classes. This means that the subclass will have access to all the methods and attributes of its parent classes."
   ]
  },
  {
   "cell_type": "code",
   "execution_count": 8,
   "id": "3973690d-a665-4855-ada6-740f8d97ec04",
   "metadata": {},
   "outputs": [
    {
     "name": "stdout",
     "output_type": "stream",
     "text": [
      "Method A\n",
      "Method B\n",
      "Method C\n"
     ]
    }
   ],
   "source": [
    "class A:\n",
    "    def method_a(self):\n",
    "        print(\"Method A\")\n",
    "\n",
    "class B:\n",
    "    def method_b(self):\n",
    "        print(\"Method B\")\n",
    "\n",
    "class C(A, B):\n",
    "    def method_c(self):\n",
    "        print(\"Method C\")\n",
    "obj = C()\n",
    "obj.method_a()  \n",
    "\n",
    "obj.method_b()  \n",
    "\n",
    "obj.method_c()  \n"
   ]
  },
  {
   "cell_type": "markdown",
   "id": "dce85aad-a8ed-4793-9633-fe0d28487670",
   "metadata": {},
   "source": [
    "Q4. What are getter and setter in python? Create a class and create a getter and a setter method in this\n",
    "class."
   ]
  },
  {
   "cell_type": "markdown",
   "id": "3301e1d8-8779-4579-a4ac-5072709a0981",
   "metadata": {},
   "source": [
    "Ans. In Python, getters and setters are methods used to get and set the values of an object's attributes. They are often used as a way to enforce encapsulation and control access to an object's internal state. Getters are methods that return the value of an attribute, while setters are methods that set the value of an attribute.\n",
    "\n"
   ]
  },
  {
   "cell_type": "code",
   "execution_count": 10,
   "id": "6351245e-aaeb-4630-8aa4-5d80714e5863",
   "metadata": {},
   "outputs": [
    {
     "name": "stdout",
     "output_type": "stream",
     "text": [
      "Shubham\n",
      "Shivam\n"
     ]
    }
   ],
   "source": [
    "class Person:\n",
    "    def __init__(self, name):\n",
    "        self._name = name\n",
    "\n",
    "    def get_name(self):\n",
    "        return self._name\n",
    "\n",
    "    def set_name(self, new_name):\n",
    "        self._name = new_name\n",
    "person = Person(\"Shubham\")\n",
    "name = person.get_name()\n",
    "print(name)  \n",
    "person.set_name(\"Shivam\")\n",
    "name = person.get_name()\n",
    "print(name)  \n"
   ]
  },
  {
   "cell_type": "markdown",
   "id": "e2bca575-93f3-4e71-bad0-05e787106f2b",
   "metadata": {},
   "source": [
    "Q5.What is method overriding in python? Write a python code to demonstrate method overriding."
   ]
  },
  {
   "cell_type": "markdown",
   "id": "94644390-3d40-43b5-a274-3e7566173a99",
   "metadata": {},
   "source": [
    "Method overriding is a feature of object-oriented programming languages that allows a child class to provide its own implementation of a method that is already defined in its parent class. This means that when an object of the child class calls the overridden method, it will use the child class's implementation instead of the parent class's implementation."
   ]
  },
  {
   "cell_type": "code",
   "execution_count": null,
   "id": "8c9262be-6746-46c9-860c-9964ad0a6f59",
   "metadata": {},
   "outputs": [],
   "source": [
    "class Animal:\n",
    "    def make_sound(self):\n",
    "        print(\"The animal makes a sound\")\n",
    "\n",
    "class Cat(Animal):\n",
    "    def make_sound(self):\n",
    "        print(\"The cat meows\")\n",
    "animal = Animal()\n",
    "\n",
    "animal.make_sound() \n",
    "\n",
    "cat = Cat()\n",
    "\n",
    "cat.make_sound()  \n"
   ]
  }
 ],
 "metadata": {
  "kernelspec": {
   "display_name": "Python 3 (ipykernel)",
   "language": "python",
   "name": "python3"
  },
  "language_info": {
   "codemirror_mode": {
    "name": "ipython",
    "version": 3
   },
   "file_extension": ".py",
   "mimetype": "text/x-python",
   "name": "python",
   "nbconvert_exporter": "python",
   "pygments_lexer": "ipython3",
   "version": "3.10.8"
  }
 },
 "nbformat": 4,
 "nbformat_minor": 5
}
